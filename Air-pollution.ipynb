{
 "cells": [
  {
   "cell_type": "code",
   "execution_count": 21,
   "metadata": {},
   "outputs": [],
   "source": [
    "import pandas as pd \n",
    "import matplotlib.pyplot as plt\n",
    "import seaborn as sns\n",
    "import numpy as np\n",
    "\n",
    "import missingno as msno\n",
    "\n",
    "import warnings\n",
    "warnings.filterwarnings('ignore')"
   ]
  },
  {
   "cell_type": "code",
   "execution_count": 2,
   "metadata": {},
   "outputs": [],
   "source": [
    "train = pd.read_csv(\"data/Train.csv\")"
   ]
  },
  {
   "cell_type": "code",
   "execution_count": 8,
   "metadata": {},
   "outputs": [
    {
     "data": {
      "text/html": [
       "<div>\n",
       "<style scoped>\n",
       "    .dataframe tbody tr th:only-of-type {\n",
       "        vertical-align: middle;\n",
       "    }\n",
       "\n",
       "    .dataframe tbody tr th {\n",
       "        vertical-align: top;\n",
       "    }\n",
       "\n",
       "    .dataframe thead th {\n",
       "        text-align: right;\n",
       "    }\n",
       "</style>\n",
       "<table border=\"1\" class=\"dataframe\">\n",
       "  <thead>\n",
       "    <tr style=\"text-align: right;\">\n",
       "      <th></th>\n",
       "      <th>Place_ID X Date</th>\n",
       "      <th>Date</th>\n",
       "      <th>Place_ID</th>\n",
       "      <th>target</th>\n",
       "      <th>target_min</th>\n",
       "      <th>target_max</th>\n",
       "      <th>target_variance</th>\n",
       "      <th>target_count</th>\n",
       "      <th>precipitable_water_entire_atmosphere</th>\n",
       "      <th>relative_humidity_2m_above_ground</th>\n",
       "      <th>...</th>\n",
       "      <th>L3_SO2_sensor_zenith_angle</th>\n",
       "      <th>L3_SO2_solar_azimuth_angle</th>\n",
       "      <th>L3_SO2_solar_zenith_angle</th>\n",
       "      <th>L3_CH4_CH4_column_volume_mixing_ratio_dry_air</th>\n",
       "      <th>L3_CH4_aerosol_height</th>\n",
       "      <th>L3_CH4_aerosol_optical_depth</th>\n",
       "      <th>L3_CH4_sensor_azimuth_angle</th>\n",
       "      <th>L3_CH4_sensor_zenith_angle</th>\n",
       "      <th>L3_CH4_solar_azimuth_angle</th>\n",
       "      <th>L3_CH4_solar_zenith_angle</th>\n",
       "    </tr>\n",
       "  </thead>\n",
       "  <tbody>\n",
       "    <tr>\n",
       "      <th>0</th>\n",
       "      <td>010Q650 X 2020-01-02</td>\n",
       "      <td>2020-01-02</td>\n",
       "      <td>010Q650</td>\n",
       "      <td>38.0</td>\n",
       "      <td>23.0</td>\n",
       "      <td>53.0</td>\n",
       "      <td>769.50</td>\n",
       "      <td>92</td>\n",
       "      <td>11.000000</td>\n",
       "      <td>60.200001</td>\n",
       "      <td>...</td>\n",
       "      <td>38.593017</td>\n",
       "      <td>-61.752587</td>\n",
       "      <td>22.363665</td>\n",
       "      <td>1793.793579</td>\n",
       "      <td>3227.855469</td>\n",
       "      <td>0.010579</td>\n",
       "      <td>74.481049</td>\n",
       "      <td>37.501499</td>\n",
       "      <td>-62.142639</td>\n",
       "      <td>22.545118</td>\n",
       "    </tr>\n",
       "    <tr>\n",
       "      <th>1</th>\n",
       "      <td>010Q650 X 2020-01-03</td>\n",
       "      <td>2020-01-03</td>\n",
       "      <td>010Q650</td>\n",
       "      <td>39.0</td>\n",
       "      <td>25.0</td>\n",
       "      <td>63.0</td>\n",
       "      <td>1319.85</td>\n",
       "      <td>91</td>\n",
       "      <td>14.600000</td>\n",
       "      <td>48.799999</td>\n",
       "      <td>...</td>\n",
       "      <td>59.624912</td>\n",
       "      <td>-67.693509</td>\n",
       "      <td>28.614804</td>\n",
       "      <td>1789.960449</td>\n",
       "      <td>3384.226562</td>\n",
       "      <td>0.015104</td>\n",
       "      <td>75.630043</td>\n",
       "      <td>55.657486</td>\n",
       "      <td>-53.868134</td>\n",
       "      <td>19.293652</td>\n",
       "    </tr>\n",
       "    <tr>\n",
       "      <th>2</th>\n",
       "      <td>010Q650 X 2020-01-04</td>\n",
       "      <td>2020-01-04</td>\n",
       "      <td>010Q650</td>\n",
       "      <td>24.0</td>\n",
       "      <td>8.0</td>\n",
       "      <td>56.0</td>\n",
       "      <td>1181.96</td>\n",
       "      <td>96</td>\n",
       "      <td>16.400000</td>\n",
       "      <td>33.400002</td>\n",
       "      <td>...</td>\n",
       "      <td>49.839714</td>\n",
       "      <td>-78.342701</td>\n",
       "      <td>34.296977</td>\n",
       "      <td>NaN</td>\n",
       "      <td>NaN</td>\n",
       "      <td>NaN</td>\n",
       "      <td>NaN</td>\n",
       "      <td>NaN</td>\n",
       "      <td>NaN</td>\n",
       "      <td>NaN</td>\n",
       "    </tr>\n",
       "    <tr>\n",
       "      <th>3</th>\n",
       "      <td>010Q650 X 2020-01-05</td>\n",
       "      <td>2020-01-05</td>\n",
       "      <td>010Q650</td>\n",
       "      <td>49.0</td>\n",
       "      <td>10.0</td>\n",
       "      <td>55.0</td>\n",
       "      <td>1113.67</td>\n",
       "      <td>96</td>\n",
       "      <td>6.911948</td>\n",
       "      <td>21.300001</td>\n",
       "      <td>...</td>\n",
       "      <td>29.181258</td>\n",
       "      <td>-73.896588</td>\n",
       "      <td>30.545446</td>\n",
       "      <td>NaN</td>\n",
       "      <td>NaN</td>\n",
       "      <td>NaN</td>\n",
       "      <td>NaN</td>\n",
       "      <td>NaN</td>\n",
       "      <td>NaN</td>\n",
       "      <td>NaN</td>\n",
       "    </tr>\n",
       "    <tr>\n",
       "      <th>4</th>\n",
       "      <td>010Q650 X 2020-01-06</td>\n",
       "      <td>2020-01-06</td>\n",
       "      <td>010Q650</td>\n",
       "      <td>21.0</td>\n",
       "      <td>9.0</td>\n",
       "      <td>52.0</td>\n",
       "      <td>1164.82</td>\n",
       "      <td>95</td>\n",
       "      <td>13.900001</td>\n",
       "      <td>44.700001</td>\n",
       "      <td>...</td>\n",
       "      <td>0.797294</td>\n",
       "      <td>-68.612480</td>\n",
       "      <td>26.899694</td>\n",
       "      <td>NaN</td>\n",
       "      <td>NaN</td>\n",
       "      <td>NaN</td>\n",
       "      <td>NaN</td>\n",
       "      <td>NaN</td>\n",
       "      <td>NaN</td>\n",
       "      <td>NaN</td>\n",
       "    </tr>\n",
       "  </tbody>\n",
       "</table>\n",
       "<p>5 rows × 82 columns</p>\n",
       "</div>"
      ],
      "text/plain": [
       "        Place_ID X Date        Date Place_ID  target  target_min  target_max   \n",
       "0  010Q650 X 2020-01-02  2020-01-02  010Q650    38.0        23.0        53.0  \\\n",
       "1  010Q650 X 2020-01-03  2020-01-03  010Q650    39.0        25.0        63.0   \n",
       "2  010Q650 X 2020-01-04  2020-01-04  010Q650    24.0         8.0        56.0   \n",
       "3  010Q650 X 2020-01-05  2020-01-05  010Q650    49.0        10.0        55.0   \n",
       "4  010Q650 X 2020-01-06  2020-01-06  010Q650    21.0         9.0        52.0   \n",
       "\n",
       "   target_variance  target_count  precipitable_water_entire_atmosphere   \n",
       "0           769.50            92                             11.000000  \\\n",
       "1          1319.85            91                             14.600000   \n",
       "2          1181.96            96                             16.400000   \n",
       "3          1113.67            96                              6.911948   \n",
       "4          1164.82            95                             13.900001   \n",
       "\n",
       "   relative_humidity_2m_above_ground  ...  L3_SO2_sensor_zenith_angle   \n",
       "0                          60.200001  ...                   38.593017  \\\n",
       "1                          48.799999  ...                   59.624912   \n",
       "2                          33.400002  ...                   49.839714   \n",
       "3                          21.300001  ...                   29.181258   \n",
       "4                          44.700001  ...                    0.797294   \n",
       "\n",
       "   L3_SO2_solar_azimuth_angle  L3_SO2_solar_zenith_angle   \n",
       "0                  -61.752587                  22.363665  \\\n",
       "1                  -67.693509                  28.614804   \n",
       "2                  -78.342701                  34.296977   \n",
       "3                  -73.896588                  30.545446   \n",
       "4                  -68.612480                  26.899694   \n",
       "\n",
       "   L3_CH4_CH4_column_volume_mixing_ratio_dry_air  L3_CH4_aerosol_height   \n",
       "0                                    1793.793579            3227.855469  \\\n",
       "1                                    1789.960449            3384.226562   \n",
       "2                                            NaN                    NaN   \n",
       "3                                            NaN                    NaN   \n",
       "4                                            NaN                    NaN   \n",
       "\n",
       "   L3_CH4_aerosol_optical_depth  L3_CH4_sensor_azimuth_angle   \n",
       "0                      0.010579                    74.481049  \\\n",
       "1                      0.015104                    75.630043   \n",
       "2                           NaN                          NaN   \n",
       "3                           NaN                          NaN   \n",
       "4                           NaN                          NaN   \n",
       "\n",
       "   L3_CH4_sensor_zenith_angle  L3_CH4_solar_azimuth_angle   \n",
       "0                   37.501499                  -62.142639  \\\n",
       "1                   55.657486                  -53.868134   \n",
       "2                         NaN                         NaN   \n",
       "3                         NaN                         NaN   \n",
       "4                         NaN                         NaN   \n",
       "\n",
       "   L3_CH4_solar_zenith_angle  \n",
       "0                  22.545118  \n",
       "1                  19.293652  \n",
       "2                        NaN  \n",
       "3                        NaN  \n",
       "4                        NaN  \n",
       "\n",
       "[5 rows x 82 columns]"
      ]
     },
     "execution_count": 8,
     "metadata": {},
     "output_type": "execute_result"
    }
   ],
   "source": [
    "train.head()"
   ]
  },
  {
   "cell_type": "code",
   "execution_count": 59,
   "metadata": {},
   "outputs": [],
   "source": [
    "Y = train['target']"
   ]
  },
  {
   "cell_type": "markdown",
   "metadata": {},
   "source": [
    "## Duplicates and Missing Values"
   ]
  },
  {
   "cell_type": "code",
   "execution_count": 5,
   "metadata": {},
   "outputs": [
    {
     "data": {
      "text/plain": [
       "False    30557\n",
       "Name: count, dtype: int64"
      ]
     },
     "execution_count": 5,
     "metadata": {},
     "output_type": "execute_result"
    }
   ],
   "source": [
    "train.duplicated().value_counts()"
   ]
  },
  {
   "cell_type": "code",
   "execution_count": 10,
   "metadata": {},
   "outputs": [
    {
     "data": {
      "text/plain": [
       "(30557, 82)"
      ]
     },
     "execution_count": 10,
     "metadata": {},
     "output_type": "execute_result"
    }
   ],
   "source": [
    "train.shape"
   ]
  },
  {
   "cell_type": "code",
   "execution_count": 6,
   "metadata": {},
   "outputs": [
    {
     "data": {
      "text/plain": [
       "<Axes: >"
      ]
     },
     "execution_count": 6,
     "metadata": {},
     "output_type": "execute_result"
    },
    {
     "data": {
      "image/png": "[encoded data removed]",
      "text/plain": [
       "<Figure size 2500x1000 with 2 Axes>"
      ]
     },
     "metadata": {},
     "output_type": "display_data"
    }
   ],
   "source": [
    "msno.matrix(train)"
   ]
  },
  {
   "cell_type": "code",
   "execution_count": 13,
   "metadata": {},
   "outputs": [
    {
     "name": "stdout",
     "output_type": "stream",
     "text": [
      "<class 'pandas.core.frame.DataFrame'>\n",
      "RangeIndex: 30557 entries, 0 to 30556\n",
      "Data columns (total 82 columns):\n",
      " #   Column                                               Non-Null Count  Dtype  \n",
      "---  ------                                               --------------  -----  \n",
      " 0   Place_ID X Date                                      30557 non-null  object \n",
      " 1   Date                                                 30557 non-null  object \n",
      " 2   Place_ID                                             30557 non-null  object \n",
      " 3   target                                               30557 non-null  float64\n",
      " 4   target_min                                           30557 non-null  float64\n",
      " 5   target_max                                           30557 non-null  float64\n",
      " 6   target_variance                                      30557 non-null  float64\n",
      " 7   target_count                                         30557 non-null  int64  \n",
      " 8   precipitable_water_entire_atmosphere                 30557 non-null  float64\n",
      " 9   relative_humidity_2m_above_ground                    30557 non-null  float64\n",
      " 10  specific_humidity_2m_above_ground                    30557 non-null  float64\n",
      " 11  temperature_2m_above_ground                          30557 non-null  float64\n",
      " 12  u_component_of_wind_10m_above_ground                 30557 non-null  float64\n",
      " 13  v_component_of_wind_10m_above_ground                 30557 non-null  float64\n",
      " 14  L3_NO2_NO2_column_number_density                     28368 non-null  float64\n",
      " 15  L3_NO2_NO2_slant_column_number_density               28368 non-null  float64\n",
      " 16  L3_NO2_absorbing_aerosol_index                       28368 non-null  float64\n",
      " 17  L3_NO2_cloud_fraction                                28368 non-null  float64\n",
      " 18  L3_NO2_sensor_altitude                               28368 non-null  float64\n",
      " 19  L3_NO2_sensor_azimuth_angle                          28367 non-null  float64\n",
      " 20  L3_NO2_sensor_zenith_angle                           28367 non-null  float64\n",
      " 21  L3_NO2_solar_azimuth_angle                           28367 non-null  float64\n",
      " 22  L3_NO2_solar_zenith_angle                            28367 non-null  float64\n",
      " 23  L3_NO2_stratospheric_NO2_column_number_density       28367 non-null  float64\n",
      " 24  L3_NO2_tropopause_pressure                           28367 non-null  float64\n",
      " 25  L3_NO2_tropospheric_NO2_column_number_density        21888 non-null  float64\n",
      " 26  L3_O3_O3_column_number_density                       30274 non-null  float64\n",
      " 27  L3_O3_O3_effective_temperature                       30274 non-null  float64\n",
      " 28  L3_O3_cloud_fraction                                 30274 non-null  float64\n",
      " 29  L3_O3_sensor_azimuth_angle                           30274 non-null  float64\n",
      " 30  L3_O3_sensor_zenith_angle                            30274 non-null  float64\n",
      " 31  L3_O3_solar_azimuth_angle                            30274 non-null  float64\n",
      " 32  L3_O3_solar_zenith_angle                             30274 non-null  float64\n",
      " 33  L3_CO_CO_column_number_density                       25134 non-null  float64\n",
      " 34  L3_CO_H2O_column_number_density                      25134 non-null  float64\n",
      " 35  L3_CO_cloud_height                                   25134 non-null  float64\n",
      " 36  L3_CO_sensor_altitude                                25134 non-null  float64\n",
      " 37  L3_CO_sensor_azimuth_angle                           25134 non-null  float64\n",
      " 38  L3_CO_sensor_zenith_angle                            25134 non-null  float64\n",
      " 39  L3_CO_solar_azimuth_angle                            25134 non-null  float64\n",
      " 40  L3_CO_solar_zenith_angle                             25134 non-null  float64\n",
      " 41  L3_HCHO_HCHO_slant_column_number_density             23132 non-null  float64\n",
      " 42  L3_HCHO_cloud_fraction                               23132 non-null  float64\n",
      " 43  L3_HCHO_sensor_azimuth_angle                         23132 non-null  float64\n",
      " 44  L3_HCHO_sensor_zenith_angle                          23132 non-null  float64\n",
      " 45  L3_HCHO_solar_azimuth_angle                          23132 non-null  float64\n",
      " 46  L3_HCHO_solar_zenith_angle                           23132 non-null  float64\n",
      " 47  L3_HCHO_tropospheric_HCHO_column_number_density      23132 non-null  float64\n",
      " 48  L3_HCHO_tropospheric_HCHO_column_number_density_amf  23132 non-null  float64\n",
      " 49  L3_CLOUD_cloud_base_height                           29035 non-null  float64\n",
      " 50  L3_CLOUD_cloud_base_pressure                         29035 non-null  float64\n",
      " 51  L3_CLOUD_cloud_fraction                              30183 non-null  float64\n",
      " 52  L3_CLOUD_cloud_optical_depth                         29035 non-null  float64\n",
      " 53  L3_CLOUD_cloud_top_height                            29035 non-null  float64\n",
      " 54  L3_CLOUD_cloud_top_pressure                          29035 non-null  float64\n",
      " 55  L3_CLOUD_sensor_azimuth_angle                        30183 non-null  float64\n",
      " 56  L3_CLOUD_sensor_zenith_angle                         30183 non-null  float64\n",
      " 57  L3_CLOUD_solar_azimuth_angle                         30183 non-null  float64\n",
      " 58  L3_CLOUD_solar_zenith_angle                          30183 non-null  float64\n",
      " 59  L3_CLOUD_surface_albedo                              29035 non-null  float64\n",
      " 60  L3_AER_AI_absorbing_aerosol_index                    30360 non-null  float64\n",
      " 61  L3_AER_AI_sensor_altitude                            30360 non-null  float64\n",
      " 62  L3_AER_AI_sensor_azimuth_angle                       30360 non-null  float64\n",
      " 63  L3_AER_AI_sensor_zenith_angle                        30360 non-null  float64\n",
      " 64  L3_AER_AI_solar_azimuth_angle                        30360 non-null  float64\n",
      " 65  L3_AER_AI_solar_zenith_angle                         30360 non-null  float64\n",
      " 66  L3_SO2_SO2_column_number_density                     23320 non-null  float64\n",
      " 67  L3_SO2_SO2_column_number_density_amf                 23320 non-null  float64\n",
      " 68  L3_SO2_SO2_slant_column_number_density               23320 non-null  float64\n",
      " 69  L3_SO2_absorbing_aerosol_index                       23249 non-null  float64\n",
      " 70  L3_SO2_cloud_fraction                                23320 non-null  float64\n",
      " 71  L3_SO2_sensor_azimuth_angle                          23320 non-null  float64\n",
      " 72  L3_SO2_sensor_zenith_angle                           23320 non-null  float64\n",
      " 73  L3_SO2_solar_azimuth_angle                           23320 non-null  float64\n",
      " 74  L3_SO2_solar_zenith_angle                            23320 non-null  float64\n",
      " 75  L3_CH4_CH4_column_volume_mixing_ratio_dry_air        5792 non-null   float64\n",
      " 76  L3_CH4_aerosol_height                                5792 non-null   float64\n",
      " 77  L3_CH4_aerosol_optical_depth                         5792 non-null   float64\n",
      " 78  L3_CH4_sensor_azimuth_angle                          5792 non-null   float64\n",
      " 79  L3_CH4_sensor_zenith_angle                           5792 non-null   float64\n",
      " 80  L3_CH4_solar_azimuth_angle                           5792 non-null   float64\n",
      " 81  L3_CH4_solar_zenith_angle                            5792 non-null   float64\n",
      "dtypes: float64(78), int64(1), object(3)\n",
      "memory usage: 19.1+ MB\n"
     ]
    }
   ],
   "source": [
    "train.info()"
   ]
  },
  {
   "cell_type": "markdown",
   "metadata": {},
   "source": [
    "## Data Imputation\n",
    "\n",
    "In the following section we are investigating columns on whether they have zero or lower values, where it is not meaningful. For this purpose we derive a csv/list of column names where zeros or lower values are possible as minimum value. We get this information from the column description data provided on the original resource websites of the datasets. \n",
    "\n",
    "After figuring out which columns have zero values in general, we check those columns against the previously imported list. According to the result we generate two new lists: one containing the columns where zeros are ok to occur (zeros_ok_list), the other containing the columns where zeros need to be handled (imputation_list)."
   ]
  },
  {
   "cell_type": "code",
   "execution_count": 20,
   "metadata": {},
   "outputs": [
    {
     "data": {
      "text/plain": [
       "['target_variance',\n",
       " 'L3_NO2_NO2_column_number_density',\n",
       " 'L3_NO2_NO2_slant_column_number_density',\n",
       " 'L3_NO2_absorbing_aerosol_index',\n",
       " 'L3_NO2_cloud_fraction',\n",
       " 'L3_NO2_sensor_altitude',\n",
       " 'L3_NO2_sensor_azimuth_angle',\n",
       " 'L3_NO2_sensor_zenith_angle',\n",
       " 'L3_NO2_solar_azimuth_angle',\n",
       " 'L3_NO2_solar_zenith_angle',\n",
       " 'L3_NO2_stratospheric_NO2_column_number_density',\n",
       " 'L3_NO2_tropopause_pressure',\n",
       " 'L3_NO2_tropospheric_NO2_column_number_density',\n",
       " 'L3_O3_O3_column_number_density',\n",
       " 'L3_O3_O3_effective_temperature',\n",
       " 'L3_O3_cloud_fraction',\n",
       " 'L3_O3_sensor_azimuth_angle',\n",
       " 'L3_O3_sensor_zenith_angle',\n",
       " 'L3_O3_solar_azimuth_angle',\n",
       " 'L3_O3_solar_zenith_angle',\n",
       " 'L3_CO_CO_column_number_density',\n",
       " 'L3_CO_H2O_column_number_density',\n",
       " 'L3_CO_cloud_height',\n",
       " 'L3_CO_sensor_altitude',\n",
       " 'L3_CO_sensor_azimuth_angle',\n",
       " 'L3_CO_sensor_zenith_angle',\n",
       " 'L3_CO_solar_azimuth_angle',\n",
       " 'L3_CO_solar_zenith_angle',\n",
       " 'L3_HCHO_HCHO_slant_column_number_density',\n",
       " 'L3_HCHO_cloud_fraction',\n",
       " 'L3_HCHO_sensor_azimuth_angle',\n",
       " 'L3_HCHO_sensor_zenith_angle',\n",
       " 'L3_HCHO_solar_azimuth_angle',\n",
       " 'L3_HCHO_solar_zenith_angle',\n",
       " 'L3_HCHO_tropospheric_HCHO_column_number_density',\n",
       " 'L3_HCHO_tropospheric_HCHO_column_number_density_amf',\n",
       " 'L3_CLOUD_cloud_fraction',\n",
       " 'L3_SO2_SO2_column_number_density',\n",
       " 'L3_SO2_SO2_column_number_density_amf',\n",
       " 'L3_SO2_SO2_slant_column_number_density',\n",
       " 'L3_SO2_absorbing_aerosol_index',\n",
       " 'L3_SO2_cloud_fraction',\n",
       " 'L3_SO2_sensor_azimuth_angle',\n",
       " 'L3_SO2_sensor_zenith_angle',\n",
       " 'L3_SO2_solar_azimuth_angle',\n",
       " 'L3_SO2_solar_zenith_angle',\n",
       " 'L3_CH4_CH4_column_volume_mixing_ratio_dry_air',\n",
       " 'L3_CH4_aerosol_height',\n",
       " 'L3_CH4_aerosol_optical_depth',\n",
       " 'L3_CH4_sensor_azimuth_angle',\n",
       " 'L3_CH4_sensor_zenith_angle',\n",
       " 'L3_CH4_solar_azimuth_angle',\n",
       " 'L3_CH4_solar_zenith_angle']"
      ]
     },
     "execution_count": 20,
     "metadata": {},
     "output_type": "execute_result"
    }
   ],
   "source": [
    "columns_with_zero = train.columns[train.eq(0).any()]\n",
    "list(columns_with_zero)"
   ]
  },
  {
   "cell_type": "code",
   "execution_count": 65,
   "metadata": {},
   "outputs": [],
   "source": [
    "#Import csv containing column names where values <=0 are meaningful and therefore allowed (filtered from google sheets file)\n",
    "columns_where_zero_ok = list(pd.read_csv(\"air_pollution_columns_where_zero_ok.csv\").loc[:, 'Column Name'])"
   ]
  },
  {
   "cell_type": "code",
   "execution_count": 66,
   "metadata": {},
   "outputs": [
    {
     "data": {
      "text/plain": [
       "['L3_AER_AI_absorbing_aerosol_index',\n",
       " 'L3_AER_AI_sensor_azimuth_angle',\n",
       " 'L3_AER_AI_solar_azimuth_angle',\n",
       " 'L3_CLOUD_cloud_fraction',\n",
       " 'L3_CLOUD_sensor_azimuth_angle',\n",
       " 'L3_CLOUD_solar_azimuth_angle',\n",
       " 'L3_CO_CO_column_number_density',\n",
       " 'L3_CO_H2O_column_number_density',\n",
       " 'L3_CO_cloud_height',\n",
       " 'L3_CO_sensor_azimuth_angle',\n",
       " 'L3_CO_solar_azimuth_angle',\n",
       " 'L3_HCHO_tropospheric_HCHO_column_number_density',\n",
       " 'L3_HCHO_HCHO_slant_column_number_density',\n",
       " 'L3_HCHO_cloud_fraction',\n",
       " 'L3_HCHO_sensor_azimuth_angle',\n",
       " 'L3_HCHO_solar_azimuth_angle',\n",
       " 'L3_NO2_NO2_column_number_density',\n",
       " 'L3_NO2_tropospheric_NO2_column_number_density',\n",
       " 'L3_NO2_absorbing_aerosol_index',\n",
       " 'L3_NO2_cloud_fraction',\n",
       " 'L3_NO2_sensor_azimuth_angle',\n",
       " 'L3_NO2_solar_azimuth_angle',\n",
       " 'L3_O3_cloud_fraction',\n",
       " 'L3_O3_sensor_azimuth_angle',\n",
       " 'L3_O3_solar_azimuth_angle',\n",
       " 'L3_SO2_SO2_column_number_density',\n",
       " 'L3_SO2_SO2_slant_column_number_density',\n",
       " 'L3_SO2_absorbing_aerosol_index',\n",
       " 'L3_SO2_cloud_fraction',\n",
       " 'L3_SO2_sensor_azimuth_angle',\n",
       " 'L3_SO2_solar_azimuth_angle',\n",
       " 'L3_CH4_sensor_azimuth_angle',\n",
       " 'L3_CH4_solar_azimuth_angle',\n",
       " 'L3_CH4_CH4_column_volume_mixing_ratio_dry_air_uncertainty',\n",
       " 'temperature_2m_above_ground',\n",
       " 'specific_humidity_2m_above_ground',\n",
       " 'u_component_of_wind_10m_above_ground',\n",
       " 'v_component_of_wind_10m_above_ground',\n",
       " 'total_precipitation_surface',\n",
       " 'precipitable_water_entire_atmosphere',\n",
       " 'total_cloud_cover_entire_atmosphere',\n",
       " 'downward_shortwave_radiation_flux']"
      ]
     },
     "execution_count": 66,
     "metadata": {},
     "output_type": "execute_result"
    }
   ],
   "source": [
    "columns_where_zero_ok"
   ]
  },
  {
   "cell_type": "code",
   "execution_count": 67,
   "metadata": {},
   "outputs": [],
   "source": [
    "#compare list1 of columns with zeros with list2 of columns where <=zero values are allowed. \n",
    "#If item of list1 not included in list2, create new list \"imputation_list\" with all columns where <=zero values are not allowed, hence need to be imputed\n",
    "#else append to zeros_ok_list\n",
    "\n",
    "#list of columns where <=zeros should be imputed\n",
    "imputation_list = []\n",
    "\n",
    "#list of columns where <=zeros are ok\n",
    "zeros_ok_list = []\n",
    "\n",
    "for column in columns_with_zero:\n",
    "    if not column in columns_where_zero_ok:\n",
    "        imputation_list.append(column)\n",
    "    else:\n",
    "        zeros_ok_list.append(column)\n"
   ]
  },
  {
   "cell_type": "code",
   "execution_count": 68,
   "metadata": {},
   "outputs": [
    {
     "data": {
      "text/plain": [
       "['target_variance',\n",
       " 'L3_NO2_NO2_slant_column_number_density',\n",
       " 'L3_NO2_sensor_altitude',\n",
       " 'L3_NO2_sensor_zenith_angle',\n",
       " 'L3_NO2_solar_zenith_angle',\n",
       " 'L3_NO2_stratospheric_NO2_column_number_density',\n",
       " 'L3_NO2_tropopause_pressure',\n",
       " 'L3_O3_O3_column_number_density',\n",
       " 'L3_O3_O3_effective_temperature',\n",
       " 'L3_O3_sensor_zenith_angle',\n",
       " 'L3_O3_solar_zenith_angle',\n",
       " 'L3_CO_sensor_altitude',\n",
       " 'L3_CO_sensor_zenith_angle',\n",
       " 'L3_CO_solar_zenith_angle',\n",
       " 'L3_HCHO_sensor_zenith_angle',\n",
       " 'L3_HCHO_solar_zenith_angle',\n",
       " 'L3_HCHO_tropospheric_HCHO_column_number_density_amf',\n",
       " 'L3_SO2_SO2_column_number_density_amf',\n",
       " 'L3_SO2_sensor_zenith_angle',\n",
       " 'L3_SO2_solar_zenith_angle',\n",
       " 'L3_CH4_CH4_column_volume_mixing_ratio_dry_air',\n",
       " 'L3_CH4_aerosol_height',\n",
       " 'L3_CH4_aerosol_optical_depth',\n",
       " 'L3_CH4_sensor_zenith_angle',\n",
       " 'L3_CH4_solar_zenith_angle']"
      ]
     },
     "execution_count": 68,
     "metadata": {},
     "output_type": "execute_result"
    }
   ],
   "source": [
    "imputation_list"
   ]
  },
  {
   "cell_type": "code",
   "execution_count": 69,
   "metadata": {},
   "outputs": [
    {
     "data": {
      "text/plain": [
       "['L3_NO2_NO2_column_number_density',\n",
       " 'L3_NO2_absorbing_aerosol_index',\n",
       " 'L3_NO2_cloud_fraction',\n",
       " 'L3_NO2_sensor_azimuth_angle',\n",
       " 'L3_NO2_solar_azimuth_angle',\n",
       " 'L3_NO2_tropospheric_NO2_column_number_density',\n",
       " 'L3_O3_cloud_fraction',\n",
       " 'L3_O3_sensor_azimuth_angle',\n",
       " 'L3_O3_solar_azimuth_angle',\n",
       " 'L3_CO_CO_column_number_density',\n",
       " 'L3_CO_H2O_column_number_density',\n",
       " 'L3_CO_cloud_height',\n",
       " 'L3_CO_sensor_azimuth_angle',\n",
       " 'L3_CO_solar_azimuth_angle',\n",
       " 'L3_HCHO_HCHO_slant_column_number_density',\n",
       " 'L3_HCHO_cloud_fraction',\n",
       " 'L3_HCHO_sensor_azimuth_angle',\n",
       " 'L3_HCHO_solar_azimuth_angle',\n",
       " 'L3_HCHO_tropospheric_HCHO_column_number_density',\n",
       " 'L3_CLOUD_cloud_fraction',\n",
       " 'L3_SO2_SO2_column_number_density',\n",
       " 'L3_SO2_SO2_slant_column_number_density',\n",
       " 'L3_SO2_absorbing_aerosol_index',\n",
       " 'L3_SO2_cloud_fraction',\n",
       " 'L3_SO2_sensor_azimuth_angle',\n",
       " 'L3_SO2_solar_azimuth_angle',\n",
       " 'L3_CH4_sensor_azimuth_angle',\n",
       " 'L3_CH4_solar_azimuth_angle']"
      ]
     },
     "execution_count": 69,
     "metadata": {},
     "output_type": "execute_result"
    }
   ],
   "source": [
    "zeros_ok_list"
   ]
  },
  {
   "cell_type": "code",
   "execution_count": 70,
   "metadata": {},
   "outputs": [
    {
     "data": {
      "text/plain": [
       "True"
      ]
     },
     "execution_count": 70,
     "metadata": {},
     "output_type": "execute_result"
    }
   ],
   "source": [
    "#cross check whether zeros_ok_list is <= columns_where_zero_ok --> shouldn't be longer\n",
    "len(zeros_ok_list) <= len(columns_where_zero_ok)"
   ]
  },
  {
   "cell_type": "code",
   "execution_count": 71,
   "metadata": {},
   "outputs": [
    {
     "name": "stdout",
     "output_type": "stream",
     "text": [
      "The lists have no identical items.\n"
     ]
    }
   ],
   "source": [
    "#cross check whether both created lists share any identical items using set intersection\n",
    "intersect = set(zeros_ok_list) & set(imputation_list)\n",
    "\n",
    "if len(intersect) > 0:\n",
    "    print(\"The lists have identical items:\", intersect)\n",
    "else:\n",
    "    print(\"The lists have no identical items.\")"
   ]
  },
  {
   "cell_type": "code",
   "execution_count": null,
   "metadata": {},
   "outputs": [],
   "source": []
  }
 ],
 "metadata": {
  "kernelspec": {
   "display_name": ".venv",
   "language": "python",
   "name": "python3"
  },
  "language_info": {
   "codemirror_mode": {
    "name": "ipython",
    "version": 3
   },
   "file_extension": ".py",
   "mimetype": "text/x-python",
   "name": "python",
   "nbconvert_exporter": "python",
   "pygments_lexer": "ipython3",
   "version": "3.9.6"
  }
 },
 "nbformat": 4,
 "nbformat_minor": 2
}
